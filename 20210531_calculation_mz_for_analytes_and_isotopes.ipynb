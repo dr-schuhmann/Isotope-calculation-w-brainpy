{
 "cells": [
  {
   "cell_type": "code",
   "execution_count": 1,
   "metadata": {},
   "outputs": [],
   "source": [
    "import glob\n",
    "import pandas as pd\n",
    "import numpy as np\n",
    "\n",
    "import brainpy\n",
    "from brainpy import isotopic_variants\n",
    "# from brainpy import PyComposition"
   ]
  },
  {
   "cell_type": "markdown",
   "metadata": {},
   "source": [
    "## Setup basic dataframe"
   ]
  },
  {
   "cell_type": "code",
   "execution_count": 2,
   "metadata": {},
   "outputs": [],
   "source": [
    "species_df = pd.read_csv(r\"F:\\Post-PhD_projects_Kai\\p24_Ion_mobility_lipids\\20210514_QE_data_sample5_oskar\\20210531_lipid_species_list_pos_neg.csv\")\n",
    "\n",
    "adduct_df = pd.read_csv(r\"F:\\Post-PhD_projects_Kai\\p24_Ion_mobility_lipids\\20210514_QE_data_sample5_oskar\\20210601_adduct_assignment.csv\")"
   ]
  },
  {
   "cell_type": "code",
   "execution_count": 3,
   "metadata": {
    "tags": []
   },
   "outputs": [],
   "source": [
    "l_m0 = []\n",
    "l_m03 = []\n",
    "l_i03 = []\n",
    "l_ec_parsed = []\n",
    "\n",
    "for i in species_df.index:\n",
    "    tmp = isotopic_variants(brainpy.parse_formula(species_df.EC[i]),4, charge=species_df.Charge[i])\n",
    "    l_ec_parsed.append(brainpy.parse_formula(species_df.EC[i]))\n",
    "    l_m0.append(round(tmp[0].mz,5))\n",
    "    l_m03.append([round(tmp[0].mz,5), round(tmp[1].mz,5), round(tmp[2].mz,5), round(tmp[3].mz,5)])\n",
    "    l_i03.append([round(tmp[0].intensity,5), round(tmp[1].intensity,5), round(tmp[2].intensity,5), round(tmp[3].intensity,5)])"
   ]
  },
  {
   "cell_type": "code",
   "execution_count": 4,
   "metadata": {},
   "outputs": [
    {
     "output_type": "execute_result",
     "data": {
      "text/plain": [
       "             EC     SPECIE  TYPE  Charge     EC_parsed         m0  \\\n",
       "0  H138C76O17P2  CL 66:3:0  M-2H      -2  [H, C, O, P]  691.46319   \n",
       "1  H136C76O17P2  CL 66:4:0  M-2H      -2  [H, C, O, P]  690.45536   \n",
       "2  H134C76O17P2  CL 66:5:0  M-2H      -2  [H, C, O, P]  689.44754   \n",
       "3  H132C76O17P2  CL 66:6:0  M-2H      -2  [H, C, O, P]  688.43971   \n",
       "4  H130C76O17P2  CL 66:7:0  M-2H      -2  [H, C, O, P]  687.43189   \n",
       "\n",
       "                                             mz  \\\n",
       "0  [691.46319, 691.96489, 692.46649, 692.96801]   \n",
       "1  [690.45536, 690.95707, 691.45866, 691.96018]   \n",
       "2  [689.44754, 689.94924, 690.45084, 690.95236]   \n",
       "3  [688.43971, 688.94142, 689.44301, 689.94453]   \n",
       "4  [687.43189, 687.93359, 688.43518, 688.93671]   \n",
       "\n",
       "                              intensity Lipid_class  \n",
       "0   [0.4242, 0.35817, 0.16414, 0.05349]          CL  \n",
       "1   [0.42429, 0.35815, 0.1641, 0.05346]          CL  \n",
       "2  [0.42439, 0.35813, 0.16405, 0.05343]          CL  \n",
       "3    [0.42448, 0.35811, 0.164, 0.05341]          CL  \n",
       "4  [0.42457, 0.35809, 0.16396, 0.05338]          CL  "
      ],
      "text/html": "<div>\n<style scoped>\n    .dataframe tbody tr th:only-of-type {\n        vertical-align: middle;\n    }\n\n    .dataframe tbody tr th {\n        vertical-align: top;\n    }\n\n    .dataframe thead th {\n        text-align: right;\n    }\n</style>\n<table border=\"1\" class=\"dataframe\">\n  <thead>\n    <tr style=\"text-align: right;\">\n      <th></th>\n      <th>EC</th>\n      <th>SPECIE</th>\n      <th>TYPE</th>\n      <th>Charge</th>\n      <th>EC_parsed</th>\n      <th>m0</th>\n      <th>mz</th>\n      <th>intensity</th>\n      <th>Lipid_class</th>\n    </tr>\n  </thead>\n  <tbody>\n    <tr>\n      <th>0</th>\n      <td>H138C76O17P2</td>\n      <td>CL 66:3:0</td>\n      <td>M-2H</td>\n      <td>-2</td>\n      <td>[H, C, O, P]</td>\n      <td>691.46319</td>\n      <td>[691.46319, 691.96489, 692.46649, 692.96801]</td>\n      <td>[0.4242, 0.35817, 0.16414, 0.05349]</td>\n      <td>CL</td>\n    </tr>\n    <tr>\n      <th>1</th>\n      <td>H136C76O17P2</td>\n      <td>CL 66:4:0</td>\n      <td>M-2H</td>\n      <td>-2</td>\n      <td>[H, C, O, P]</td>\n      <td>690.45536</td>\n      <td>[690.45536, 690.95707, 691.45866, 691.96018]</td>\n      <td>[0.42429, 0.35815, 0.1641, 0.05346]</td>\n      <td>CL</td>\n    </tr>\n    <tr>\n      <th>2</th>\n      <td>H134C76O17P2</td>\n      <td>CL 66:5:0</td>\n      <td>M-2H</td>\n      <td>-2</td>\n      <td>[H, C, O, P]</td>\n      <td>689.44754</td>\n      <td>[689.44754, 689.94924, 690.45084, 690.95236]</td>\n      <td>[0.42439, 0.35813, 0.16405, 0.05343]</td>\n      <td>CL</td>\n    </tr>\n    <tr>\n      <th>3</th>\n      <td>H132C76O17P2</td>\n      <td>CL 66:6:0</td>\n      <td>M-2H</td>\n      <td>-2</td>\n      <td>[H, C, O, P]</td>\n      <td>688.43971</td>\n      <td>[688.43971, 688.94142, 689.44301, 689.94453]</td>\n      <td>[0.42448, 0.35811, 0.164, 0.05341]</td>\n      <td>CL</td>\n    </tr>\n    <tr>\n      <th>4</th>\n      <td>H130C76O17P2</td>\n      <td>CL 66:7:0</td>\n      <td>M-2H</td>\n      <td>-2</td>\n      <td>[H, C, O, P]</td>\n      <td>687.43189</td>\n      <td>[687.43189, 687.93359, 688.43518, 688.93671]</td>\n      <td>[0.42457, 0.35809, 0.16396, 0.05338]</td>\n      <td>CL</td>\n    </tr>\n  </tbody>\n</table>\n</div>"
     },
     "metadata": {},
     "execution_count": 4
    }
   ],
   "source": [
    "species_df['EC_parsed'] = l_ec_parsed\n",
    "species_df['m0'] = l_m0\n",
    "species_df['mz'] = l_m03\n",
    "species_df['intensity'] = l_i03\n",
    "\n",
    "species_df['Lipid_class'] = pd.DataFrame(species_df.SPECIE.str.split(\" \").tolist())[0]\n",
    "\n",
    "species_df.head()"
   ]
  },
  {
   "cell_type": "code",
   "execution_count": 5,
   "metadata": {},
   "outputs": [],
   "source": [
    "pos_mode = species_df.Charge > 0\n",
    "neg_mode = species_df.Charge < 0"
   ]
  },
  {
   "cell_type": "code",
   "execution_count": 6,
   "metadata": {},
   "outputs": [],
   "source": [
    "import json"
   ]
  },
  {
   "cell_type": "code",
   "execution_count": 7,
   "metadata": {},
   "outputs": [
    {
     "output_type": "execute_result",
     "data": {
      "text/plain": [
       "            Adduct  Charge                              Delta_to_main_species\n",
       "0             M-2H      -2  {'H': 0, 'C': 0, 'O': 0, 'N': 0, 'Na': 0, 'Cl'...\n",
       "1      M-2H+NaHCO2      -2  {'H': 1, 'C': 1, 'O': 2, 'N': 0, 'Na': 1, 'Cl'...\n",
       "2     M-2H+NH4HCO2      -2  {'H': 5, 'C': 1, 'O': 2, 'N': 1, 'Na': 0, 'Cl'...\n",
       "3        M-2H+NaCl      -2  {'H': 0, 'C': 0, 'O': 0, 'N': 0, 'Na': 1, 'Cl'...\n",
       "4           M+HCO2      -1  {'H': 0, 'C': 0, 'O': 0, 'N': 0, 'Na': 0, 'Cl'...\n",
       "5    M+HCO2+NaHCO2      -1  {'H': 1, 'C': 1, 'O': 2, 'N': 0, 'Na': 1, 'Cl'...\n",
       "6   M+HCO2+NH4HCO2      -1  {'H': 5, 'C': 1, 'O': 2, 'N': 1, 'Na': 0, 'Cl'...\n",
       "7      M+HCO2+NaCl      -1  {'H': 0, 'C': 0, 'O': 0, 'N': 0, 'Na': 1, 'Cl'...\n",
       "8             M+Cl      -1  {'H': -1, 'C': -1, 'O': -2, 'N': 0, 'Na': 0, '...\n",
       "9              M-H      -1  {'H': 0, 'C': 0, 'O': 0, 'N': 0, 'Na': 0, 'Cl'...\n",
       "10      M-H+NaHCO2      -1  {'H': 1, 'C': 1, 'O': 2, 'N': 0, 'Na': 1, 'Cl'...\n",
       "11     M-H+NH4HCO2      -1  {'H': 5, 'C': 1, 'O': 2, 'N': 1, 'Na': 0, 'Cl'...\n",
       "12        M-H+NaCl      -1  {'H': 0, 'C': 0, 'O': 0, 'N': 0, 'Na': 1, 'Cl'...\n",
       "13             M+H       1  {'H': 0, 'C': 0, 'O': 0, 'N': 0, 'Na': 0, 'Cl'...\n",
       "14            M+Na       1  {'H': -1, 'C': 0, 'O': 0, 'N': 0, 'Na': 1, 'Cl...\n",
       "15       M+Na+NaCl       1  {'H': -1, 'C': 0, 'O': 0, 'N': 0, 'Na': 2, 'Cl...\n",
       "16        M+H+NaCl       1  {'H': 0, 'C': 0, 'O': 0, 'N': 0, 'Na': 1, 'Cl'...\n",
       "17           M+NH4       1  {'H': 0, 'C': 0, 'O': 0, 'N': 0, 'Na': 0, 'Cl'...\n",
       "18      M+NH4+NaCl       1  {'H': 0, 'C': 0, 'O': 0, 'N': 0, 'Na': 1, 'Cl'..."
      ],
      "text/html": "<div>\n<style scoped>\n    .dataframe tbody tr th:only-of-type {\n        vertical-align: middle;\n    }\n\n    .dataframe tbody tr th {\n        vertical-align: top;\n    }\n\n    .dataframe thead th {\n        text-align: right;\n    }\n</style>\n<table border=\"1\" class=\"dataframe\">\n  <thead>\n    <tr style=\"text-align: right;\">\n      <th></th>\n      <th>Adduct</th>\n      <th>Charge</th>\n      <th>Delta_to_main_species</th>\n    </tr>\n  </thead>\n  <tbody>\n    <tr>\n      <th>0</th>\n      <td>M-2H</td>\n      <td>-2</td>\n      <td>{'H': 0, 'C': 0, 'O': 0, 'N': 0, 'Na': 0, 'Cl'...</td>\n    </tr>\n    <tr>\n      <th>1</th>\n      <td>M-2H+NaHCO2</td>\n      <td>-2</td>\n      <td>{'H': 1, 'C': 1, 'O': 2, 'N': 0, 'Na': 1, 'Cl'...</td>\n    </tr>\n    <tr>\n      <th>2</th>\n      <td>M-2H+NH4HCO2</td>\n      <td>-2</td>\n      <td>{'H': 5, 'C': 1, 'O': 2, 'N': 1, 'Na': 0, 'Cl'...</td>\n    </tr>\n    <tr>\n      <th>3</th>\n      <td>M-2H+NaCl</td>\n      <td>-2</td>\n      <td>{'H': 0, 'C': 0, 'O': 0, 'N': 0, 'Na': 1, 'Cl'...</td>\n    </tr>\n    <tr>\n      <th>4</th>\n      <td>M+HCO2</td>\n      <td>-1</td>\n      <td>{'H': 0, 'C': 0, 'O': 0, 'N': 0, 'Na': 0, 'Cl'...</td>\n    </tr>\n    <tr>\n      <th>5</th>\n      <td>M+HCO2+NaHCO2</td>\n      <td>-1</td>\n      <td>{'H': 1, 'C': 1, 'O': 2, 'N': 0, 'Na': 1, 'Cl'...</td>\n    </tr>\n    <tr>\n      <th>6</th>\n      <td>M+HCO2+NH4HCO2</td>\n      <td>-1</td>\n      <td>{'H': 5, 'C': 1, 'O': 2, 'N': 1, 'Na': 0, 'Cl'...</td>\n    </tr>\n    <tr>\n      <th>7</th>\n      <td>M+HCO2+NaCl</td>\n      <td>-1</td>\n      <td>{'H': 0, 'C': 0, 'O': 0, 'N': 0, 'Na': 1, 'Cl'...</td>\n    </tr>\n    <tr>\n      <th>8</th>\n      <td>M+Cl</td>\n      <td>-1</td>\n      <td>{'H': -1, 'C': -1, 'O': -2, 'N': 0, 'Na': 0, '...</td>\n    </tr>\n    <tr>\n      <th>9</th>\n      <td>M-H</td>\n      <td>-1</td>\n      <td>{'H': 0, 'C': 0, 'O': 0, 'N': 0, 'Na': 0, 'Cl'...</td>\n    </tr>\n    <tr>\n      <th>10</th>\n      <td>M-H+NaHCO2</td>\n      <td>-1</td>\n      <td>{'H': 1, 'C': 1, 'O': 2, 'N': 0, 'Na': 1, 'Cl'...</td>\n    </tr>\n    <tr>\n      <th>11</th>\n      <td>M-H+NH4HCO2</td>\n      <td>-1</td>\n      <td>{'H': 5, 'C': 1, 'O': 2, 'N': 1, 'Na': 0, 'Cl'...</td>\n    </tr>\n    <tr>\n      <th>12</th>\n      <td>M-H+NaCl</td>\n      <td>-1</td>\n      <td>{'H': 0, 'C': 0, 'O': 0, 'N': 0, 'Na': 1, 'Cl'...</td>\n    </tr>\n    <tr>\n      <th>13</th>\n      <td>M+H</td>\n      <td>1</td>\n      <td>{'H': 0, 'C': 0, 'O': 0, 'N': 0, 'Na': 0, 'Cl'...</td>\n    </tr>\n    <tr>\n      <th>14</th>\n      <td>M+Na</td>\n      <td>1</td>\n      <td>{'H': -1, 'C': 0, 'O': 0, 'N': 0, 'Na': 1, 'Cl...</td>\n    </tr>\n    <tr>\n      <th>15</th>\n      <td>M+Na+NaCl</td>\n      <td>1</td>\n      <td>{'H': -1, 'C': 0, 'O': 0, 'N': 0, 'Na': 2, 'Cl...</td>\n    </tr>\n    <tr>\n      <th>16</th>\n      <td>M+H+NaCl</td>\n      <td>1</td>\n      <td>{'H': 0, 'C': 0, 'O': 0, 'N': 0, 'Na': 1, 'Cl'...</td>\n    </tr>\n    <tr>\n      <th>17</th>\n      <td>M+NH4</td>\n      <td>1</td>\n      <td>{'H': 0, 'C': 0, 'O': 0, 'N': 0, 'Na': 0, 'Cl'...</td>\n    </tr>\n    <tr>\n      <th>18</th>\n      <td>M+NH4+NaCl</td>\n      <td>1</td>\n      <td>{'H': 0, 'C': 0, 'O': 0, 'N': 0, 'Na': 1, 'Cl'...</td>\n    </tr>\n  </tbody>\n</table>\n</div>"
     },
     "metadata": {},
     "execution_count": 7
    }
   ],
   "source": [
    "delta_EC_df = pd.read_csv(r\"F:\\Post-PhD_projects_Kai\\p24_Ion_mobility_lipids\\20210514_QE_data_sample5_oskar\\20210601_delta_to_main_species.csv\")\n",
    "\n",
    "delta_dict = []\n",
    "\n",
    "for i in delta_EC_df.index:\n",
    "    delta_dict.append(json.loads(delta_EC_df.Delta_to_main_species[i]))\n",
    "\n",
    "delta_EC_df['Delta_to_main_species'] = delta_dict\n",
    "\n",
    "delta_EC_df"
   ]
  },
  {
   "cell_type": "code",
   "execution_count": 8,
   "metadata": {
    "tags": []
   },
   "outputs": [],
   "source": [
    "elements = [\"H\", \"C\", \"O\", \"N\", \"P\", \"Na\", \"Cl\"]\n",
    "tuplelist = []\n",
    "ec_dictlist = []\n",
    "\n",
    "for i in species_df.index:\n",
    "    t = species_df.EC_parsed[i]\n",
    "    for element in elements:\n",
    "        tuplelist.append((element, t[element]))\n",
    "\n",
    "        # tmp = tuplelist.append((element, t[element]))\n",
    "    ec_dictlist.append(dict(tuplelist))\n",
    "\n",
    "species_df['EC_dict'] = ec_dictlist"
   ]
  },
  {
   "cell_type": "code",
   "execution_count": 9,
   "metadata": {},
   "outputs": [
    {
     "output_type": "execute_result",
     "data": {
      "text/plain": [
       "           M-2H          M+HCO2          M-H       M+H       M+NH4\n",
       "0   M-2H+NaHCO2   M+HCO2+NaHCO2   M-H+NaHCO2      M+Na        M+Na\n",
       "1  M-2H+NH4HCO2  M+HCO2+NH4HCO2  M-H+NH4HCO2  M+H+NaCl  M+NH4+NaCl\n",
       "2     M-2H+NaCl     M+HCO2+NaCl     M-H+NaCl       NaN         NaN\n",
       "3           NaN            M+Cl          NaN       NaN         NaN"
      ],
      "text/html": "<div>\n<style scoped>\n    .dataframe tbody tr th:only-of-type {\n        vertical-align: middle;\n    }\n\n    .dataframe tbody tr th {\n        vertical-align: top;\n    }\n\n    .dataframe thead th {\n        text-align: right;\n    }\n</style>\n<table border=\"1\" class=\"dataframe\">\n  <thead>\n    <tr style=\"text-align: right;\">\n      <th></th>\n      <th>M-2H</th>\n      <th>M+HCO2</th>\n      <th>M-H</th>\n      <th>M+H</th>\n      <th>M+NH4</th>\n    </tr>\n  </thead>\n  <tbody>\n    <tr>\n      <th>0</th>\n      <td>M-2H+NaHCO2</td>\n      <td>M+HCO2+NaHCO2</td>\n      <td>M-H+NaHCO2</td>\n      <td>M+Na</td>\n      <td>M+Na</td>\n    </tr>\n    <tr>\n      <th>1</th>\n      <td>M-2H+NH4HCO2</td>\n      <td>M+HCO2+NH4HCO2</td>\n      <td>M-H+NH4HCO2</td>\n      <td>M+H+NaCl</td>\n      <td>M+NH4+NaCl</td>\n    </tr>\n    <tr>\n      <th>2</th>\n      <td>M-2H+NaCl</td>\n      <td>M+HCO2+NaCl</td>\n      <td>M-H+NaCl</td>\n      <td>NaN</td>\n      <td>NaN</td>\n    </tr>\n    <tr>\n      <th>3</th>\n      <td>NaN</td>\n      <td>M+Cl</td>\n      <td>NaN</td>\n      <td>NaN</td>\n      <td>NaN</td>\n    </tr>\n  </tbody>\n</table>\n</div>"
     },
     "metadata": {},
     "execution_count": 9
    }
   ],
   "source": [
    "adduct_df"
   ]
  },
  {
   "cell_type": "code",
   "execution_count": 10,
   "metadata": {
    "tags": []
   },
   "outputs": [],
   "source": [
    "l_species = []\n",
    "l_EC_dict = []\n",
    "l_type = []\n",
    "l_delta = []\n",
    "l_charge = []\n",
    "\n",
    "# do something for each species; about 780 entries\n",
    "for i in species_df.index:\n",
    "    # find for each species additional adduct variants\n",
    "    for j in np.arange(0, len(adduct_df[species_df.TYPE[i]].dropna()),1):\n",
    "        l_species.append(species_df.SPECIE[i])\n",
    "        l_EC_dict.append(species_df.EC_dict[i])\n",
    "        l_charge.append(species_df.Charge[i])\n",
    "        adduct = adduct_df[species_df.TYPE[i]][j]\n",
    "        l_type.append(adduct)\n",
    "        l_delta.append(delta_EC_df[(delta_EC_df.Adduct == adduct)].Delta_to_main_species.tolist())\n",
    "\n",
    "l_delta_flat = [item for sublist in l_delta for item in sublist]"
   ]
  },
  {
   "cell_type": "code",
   "execution_count": 11,
   "metadata": {},
   "outputs": [
    {
     "output_type": "execute_result",
     "data": {
      "text/plain": [
       "         SPECIE Charge                                        EC_dict_ori  \\\n",
       "0     CL 66:3:0     -2  {'H': 138, 'C': 76, 'O': 17, 'N': 0, 'P': 2, '...   \n",
       "1     CL 66:3:0     -2  {'H': 138, 'C': 76, 'O': 17, 'N': 0, 'P': 2, '...   \n",
       "2     CL 66:3:0     -2  {'H': 138, 'C': 76, 'O': 17, 'N': 0, 'P': 2, '...   \n",
       "3     CL 66:4:0     -2  {'H': 136, 'C': 76, 'O': 17, 'N': 0, 'P': 2, '...   \n",
       "4     CL 66:4:0     -2  {'H': 136, 'C': 76, 'O': 17, 'N': 0, 'P': 2, '...   \n",
       "...         ...    ...                                                ...   \n",
       "2192  TG 60:2:0      1  {'H': 122, 'C': 63, 'O': 6, 'N': 1, 'P': 0, 'N...   \n",
       "2193  TG 60:1:0      1  {'H': 124, 'C': 63, 'O': 6, 'N': 1, 'P': 0, 'N...   \n",
       "2194  TG 60:1:0      1  {'H': 124, 'C': 63, 'O': 6, 'N': 1, 'P': 0, 'N...   \n",
       "2195  TG 60:0:0      1  {'H': 126, 'C': 63, 'O': 6, 'N': 1, 'P': 0, 'N...   \n",
       "2196  TG 60:0:0      1  {'H': 126, 'C': 63, 'O': 6, 'N': 1, 'P': 0, 'N...   \n",
       "\n",
       "        new_adduct                                          sub_parse  \n",
       "0      M-2H+NaHCO2  {'H': 1, 'C': 1, 'O': 2, 'N': 0, 'Na': 1, 'Cl'...  \n",
       "1     M-2H+NH4HCO2  {'H': 5, 'C': 1, 'O': 2, 'N': 1, 'Na': 0, 'Cl'...  \n",
       "2        M-2H+NaCl  {'H': 0, 'C': 0, 'O': 0, 'N': 0, 'Na': 1, 'Cl'...  \n",
       "3      M-2H+NaHCO2  {'H': 1, 'C': 1, 'O': 2, 'N': 0, 'Na': 1, 'Cl'...  \n",
       "4     M-2H+NH4HCO2  {'H': 5, 'C': 1, 'O': 2, 'N': 1, 'Na': 0, 'Cl'...  \n",
       "...            ...                                                ...  \n",
       "2192    M+NH4+NaCl  {'H': 0, 'C': 0, 'O': 0, 'N': 0, 'Na': 1, 'Cl'...  \n",
       "2193          M+Na  {'H': -1, 'C': 0, 'O': 0, 'N': 0, 'Na': 1, 'Cl...  \n",
       "2194    M+NH4+NaCl  {'H': 0, 'C': 0, 'O': 0, 'N': 0, 'Na': 1, 'Cl'...  \n",
       "2195          M+Na  {'H': -1, 'C': 0, 'O': 0, 'N': 0, 'Na': 1, 'Cl...  \n",
       "2196    M+NH4+NaCl  {'H': 0, 'C': 0, 'O': 0, 'N': 0, 'Na': 1, 'Cl'...  \n",
       "\n",
       "[2197 rows x 5 columns]"
      ],
      "text/html": "<div>\n<style scoped>\n    .dataframe tbody tr th:only-of-type {\n        vertical-align: middle;\n    }\n\n    .dataframe tbody tr th {\n        vertical-align: top;\n    }\n\n    .dataframe thead th {\n        text-align: right;\n    }\n</style>\n<table border=\"1\" class=\"dataframe\">\n  <thead>\n    <tr style=\"text-align: right;\">\n      <th></th>\n      <th>SPECIE</th>\n      <th>Charge</th>\n      <th>EC_dict_ori</th>\n      <th>new_adduct</th>\n      <th>sub_parse</th>\n    </tr>\n  </thead>\n  <tbody>\n    <tr>\n      <th>0</th>\n      <td>CL 66:3:0</td>\n      <td>-2</td>\n      <td>{'H': 138, 'C': 76, 'O': 17, 'N': 0, 'P': 2, '...</td>\n      <td>M-2H+NaHCO2</td>\n      <td>{'H': 1, 'C': 1, 'O': 2, 'N': 0, 'Na': 1, 'Cl'...</td>\n    </tr>\n    <tr>\n      <th>1</th>\n      <td>CL 66:3:0</td>\n      <td>-2</td>\n      <td>{'H': 138, 'C': 76, 'O': 17, 'N': 0, 'P': 2, '...</td>\n      <td>M-2H+NH4HCO2</td>\n      <td>{'H': 5, 'C': 1, 'O': 2, 'N': 1, 'Na': 0, 'Cl'...</td>\n    </tr>\n    <tr>\n      <th>2</th>\n      <td>CL 66:3:0</td>\n      <td>-2</td>\n      <td>{'H': 138, 'C': 76, 'O': 17, 'N': 0, 'P': 2, '...</td>\n      <td>M-2H+NaCl</td>\n      <td>{'H': 0, 'C': 0, 'O': 0, 'N': 0, 'Na': 1, 'Cl'...</td>\n    </tr>\n    <tr>\n      <th>3</th>\n      <td>CL 66:4:0</td>\n      <td>-2</td>\n      <td>{'H': 136, 'C': 76, 'O': 17, 'N': 0, 'P': 2, '...</td>\n      <td>M-2H+NaHCO2</td>\n      <td>{'H': 1, 'C': 1, 'O': 2, 'N': 0, 'Na': 1, 'Cl'...</td>\n    </tr>\n    <tr>\n      <th>4</th>\n      <td>CL 66:4:0</td>\n      <td>-2</td>\n      <td>{'H': 136, 'C': 76, 'O': 17, 'N': 0, 'P': 2, '...</td>\n      <td>M-2H+NH4HCO2</td>\n      <td>{'H': 5, 'C': 1, 'O': 2, 'N': 1, 'Na': 0, 'Cl'...</td>\n    </tr>\n    <tr>\n      <th>...</th>\n      <td>...</td>\n      <td>...</td>\n      <td>...</td>\n      <td>...</td>\n      <td>...</td>\n    </tr>\n    <tr>\n      <th>2192</th>\n      <td>TG 60:2:0</td>\n      <td>1</td>\n      <td>{'H': 122, 'C': 63, 'O': 6, 'N': 1, 'P': 0, 'N...</td>\n      <td>M+NH4+NaCl</td>\n      <td>{'H': 0, 'C': 0, 'O': 0, 'N': 0, 'Na': 1, 'Cl'...</td>\n    </tr>\n    <tr>\n      <th>2193</th>\n      <td>TG 60:1:0</td>\n      <td>1</td>\n      <td>{'H': 124, 'C': 63, 'O': 6, 'N': 1, 'P': 0, 'N...</td>\n      <td>M+Na</td>\n      <td>{'H': -1, 'C': 0, 'O': 0, 'N': 0, 'Na': 1, 'Cl...</td>\n    </tr>\n    <tr>\n      <th>2194</th>\n      <td>TG 60:1:0</td>\n      <td>1</td>\n      <td>{'H': 124, 'C': 63, 'O': 6, 'N': 1, 'P': 0, 'N...</td>\n      <td>M+NH4+NaCl</td>\n      <td>{'H': 0, 'C': 0, 'O': 0, 'N': 0, 'Na': 1, 'Cl'...</td>\n    </tr>\n    <tr>\n      <th>2195</th>\n      <td>TG 60:0:0</td>\n      <td>1</td>\n      <td>{'H': 126, 'C': 63, 'O': 6, 'N': 1, 'P': 0, 'N...</td>\n      <td>M+Na</td>\n      <td>{'H': -1, 'C': 0, 'O': 0, 'N': 0, 'Na': 1, 'Cl...</td>\n    </tr>\n    <tr>\n      <th>2196</th>\n      <td>TG 60:0:0</td>\n      <td>1</td>\n      <td>{'H': 126, 'C': 63, 'O': 6, 'N': 1, 'P': 0, 'N...</td>\n      <td>M+NH4+NaCl</td>\n      <td>{'H': 0, 'C': 0, 'O': 0, 'N': 0, 'Na': 1, 'Cl'...</td>\n    </tr>\n  </tbody>\n</table>\n<p>2197 rows × 5 columns</p>\n</div>"
     },
     "metadata": {},
     "execution_count": 11
    }
   ],
   "source": [
    "new_adduct_df = pd.DataFrame([l_species, l_charge, l_EC_dict, l_type, l_delta_flat]).T\n",
    "new_adduct_df.columns = ['SPECIE', 'Charge', 'EC_dict_ori', 'new_adduct', 'sub_parse']\n",
    "new_adduct_df"
   ]
  },
  {
   "cell_type": "code",
   "execution_count": 12,
   "metadata": {},
   "outputs": [
    {
     "output_type": "execute_result",
     "data": {
      "text/plain": [
       "{'H': 124, 'C': 63, 'O': 6, 'N': 1, 'P': 0, 'Na': 0, 'Cl': 0}"
      ]
     },
     "metadata": {},
     "execution_count": 12
    }
   ],
   "source": [
    "new_adduct_df.EC_dict_ori[2193]"
   ]
  },
  {
   "cell_type": "code",
   "execution_count": 13,
   "metadata": {},
   "outputs": [],
   "source": [
    "# l = [new_adduct_df.EC_dict_ori[2193], new_adduct_df.sub_parse[2193]]\n",
    "\n",
    "# result = {}\n",
    "# for i in np.arange(0,2,1):\n",
    "#     d = l[i]\n",
    "#     tmp = []\n",
    "#     for element in d.keys():\n",
    "#         result[element] = result.get(element, 0) + d[element]\n",
    "#         # l_falsch.append(d[element])\n",
    "#         if i == 1 and result[element] > 0:\n",
    "#             tmp.append([element, str(result[element])])"
   ]
  },
  {
   "cell_type": "code",
   "execution_count": null,
   "metadata": {
    "tags": []
   },
   "outputs": [],
   "source": [
    "l_m0 = []\n",
    "l_m03 = []\n",
    "l_i03 = []\n",
    "l_falsch = []\n",
    "EC_LXstyle_list=[]\n",
    "EC_LXstyle_parse_list = []\n",
    "\n",
    "for e in new_adduct_df.index:\n",
    "    # print(e)\n",
    "    l = [new_adduct_df.EC_dict_ori[e], new_adduct_df.sub_parse[e]]\n",
    "\n",
    "    result = {}\n",
    "    for i in np.arange(0,2,1):\n",
    "        d = l[i]\n",
    "        tmp = []\n",
    "        for element in d.keys():\n",
    "            result[element] = result.get(element, 0) + d[element]\n",
    "            if i == 1 and result[element] >0:\n",
    "                tmp.append([element, str(result[element])])\n",
    "    tmp2 = []\n",
    "    isotopes = []\n",
    "    for i in np.arange(0,len(tmp),1):\n",
    "        for j in np.arange(0,2,1):\n",
    "            tmp2.append(tmp[i][j])\n",
    "    EC_LXstyle = ''.join(tmp2)\n",
    "\n",
    "    # isotopes = isotopic_variants(brainpy.parse_formula(EC_LXstyle),4, charge=new_adduct_df.Charge[e])\n",
    "    # l_m0.append(round(isotopes[0].mz,5))\n",
    "    # l_m03.append([round(isotopes[0].mz,5), round(isotopes[1].mz,5), round(isotopes[2].mz,5), round(isotopes[3].mz,5)])\n",
    "    # print(round(isotopes[0].intensity,5))\n",
    "    # break\n",
    "    # l_i03.append([round(isotopes[0].intensity,5), round(isotopes[1].intensity,5), round(isotopes[2].intensity,5), round(isotopes[3].intensity,5)])\n",
    "\n",
    "    # EC_LXstyle_parse_list.append(brainpy.parse_formula(EC_LXstyle))\n",
    "\n",
    "\n",
    "    # print(EC_LXstyle)\n",
    "    EC_LXstyle_list.append(EC_LXstyle)"
   ]
  },
  {
   "cell_type": "code",
   "execution_count": 14,
   "metadata": {},
   "outputs": [
    {
     "output_type": "error",
     "ename": "NameError",
     "evalue": "name 'isotopes' is not defined",
     "traceback": [
      "\u001b[1;31m---------------------------------------------------------------------------\u001b[0m",
      "\u001b[1;31mNameError\u001b[0m                                 Traceback (most recent call last)",
      "\u001b[1;32m<ipython-input-14-c3a316d75641>\u001b[0m in \u001b[0;36m<module>\u001b[1;34m\u001b[0m\n\u001b[1;32m----> 1\u001b[1;33m \u001b[0misotopes\u001b[0m\u001b[1;33m\u001b[0m\u001b[1;33m\u001b[0m\u001b[0m\n\u001b[0m",
      "\u001b[1;31mNameError\u001b[0m: name 'isotopes' is not defined"
     ]
    }
   ],
   "source": [
    "isotopes"
   ]
  },
  {
   "cell_type": "code",
   "execution_count": 14,
   "metadata": {},
   "outputs": [],
   "source": [
    "# new_adduct_iso_df = pd.DataFrame([EC_LXstyle_parse_list, l_m0, l_m03, l_i03]).T\n",
    "# new_adduct_iso_df.columns = ['EC', 'm0', 'm_iso', 'i_iso']\n",
    "# new_adduct_iso_df.head()"
   ]
  }
 ],
 "metadata": {
  "kernelspec": {
   "name": "python385jvsc74a57bd045446b61c21e176c5a7f4381864ada81c9a3989632641de3133b675bd46d5973",
   "display_name": "Python 3.8.5 64-bit ('base': conda)"
  },
  "language_info": {
   "codemirror_mode": {
    "name": "ipython",
    "version": 3
   },
   "file_extension": ".py",
   "mimetype": "text/x-python",
   "name": "python",
   "nbconvert_exporter": "python",
   "pygments_lexer": "ipython3",
   "version": "3.8.5"
  }
 },
 "nbformat": 4,
 "nbformat_minor": 4
}